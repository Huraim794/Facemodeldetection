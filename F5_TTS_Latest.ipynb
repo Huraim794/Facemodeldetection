{
  "nbformat": 4,
  "nbformat_minor": 0,
  "metadata": {
    "colab": {
      "provenance": [],
      "gpuType": "T4",
      "include_colab_link": true
    },
    "kernelspec": {
      "name": "python3",
      "display_name": "Python 3"
    },
    "language_info": {
      "name": "python"
    },
    "accelerator": "GPU"
  },
  "cells": [
    {
      "cell_type": "markdown",
      "metadata": {
        "id": "view-in-github",
        "colab_type": "text"
      },
      "source": [
        "<a href=\"https://colab.research.google.com/github/Huraim794/Facemodeldetection/blob/main/F5_TTS_Latest.ipynb\" target=\"_parent\"><img src=\"https://colab.research.google.com/assets/colab-badge.svg\" alt=\"Open In Colab\"/></a>"
      ]
    },
    {
      "cell_type": "code",
      "source": [
        "# !nvcc --version\n",
        "# https://pytorch.org/get-started/locally/\n",
        "# pip3 install torch torchvision torchaudio --index-url https://download.pytorch.org/whl/cu124\n"
      ],
      "metadata": {
        "id": "4v37Tp3_dI7l"
      },
      "execution_count": 1,
      "outputs": []
    },
    {
      "cell_type": "code",
      "source": [
        "\n",
        "!pip install git+https://github.com/SWivid/F5-TTS.git\n",
        "from IPython.display import clear_output\n",
        "clear_output()"
      ],
      "metadata": {
        "id": "JzP3NJkiW9Em"
      },
      "execution_count": 2,
      "outputs": []
    },
    {
      "cell_type": "code",
      "execution_count": null,
      "metadata": {
        "id": "dB3clv5KWtQG",
        "outputId": "2eea38f5-d91b-4b0c-bc3e-d42d3c80de37",
        "colab": {
          "base_uri": "https://localhost:8080/"
        }
      },
      "outputs": [
        {
          "output_type": "stream",
          "name": "stdout",
          "text": [
            "2024-11-18 07:53:15.744785: E external/local_xla/xla/stream_executor/cuda/cuda_fft.cc:485] Unable to register cuFFT factory: Attempting to register factory for plugin cuFFT when one has already been registered\n",
            "2024-11-18 07:53:15.777510: E external/local_xla/xla/stream_executor/cuda/cuda_dnn.cc:8454] Unable to register cuDNN factory: Attempting to register factory for plugin cuDNN when one has already been registered\n",
            "2024-11-18 07:53:15.787202: E external/local_xla/xla/stream_executor/cuda/cuda_blas.cc:1452] Unable to register cuBLAS factory: Attempting to register factory for plugin cuBLAS when one has already been registered\n",
            "2024-11-18 07:53:15.810607: I tensorflow/core/platform/cpu_feature_guard.cc:210] This TensorFlow binary is optimized to use available CPU instructions in performance-critical operations.\n",
            "To enable the following instructions: AVX2 AVX512F FMA, in other operations, rebuild TensorFlow with the appropriate compiler flags.\n",
            "2024-11-18 07:53:17.463662: W tensorflow/compiler/tf2tensorrt/utils/py_utils.cc:38] TF-TRT Warning: Could not find TensorRT\n",
            "Download Vocos from huggingface charactr/vocos-mel-24khz\n",
            "config.yaml: 100% 461/461 [00:00<00:00, 2.97MB/s]\n",
            "pytorch_model.bin: 100% 54.4M/54.4M [00:00<00:00, 217MB/s]\n",
            "model_1200000.safetensors: 100% 1.35G/1.35G [00:31<00:00, 42.4MB/s]\n",
            "model_1200000.safetensors: 100% 1.33G/1.33G [00:31<00:00, 42.2MB/s]\n",
            "\n",
            "vocab :  /usr/local/lib/python3.10/dist-packages/f5_tts/infer/examples/vocab.txt\n",
            "token :  custom\n",
            "model :  /root/.cache/huggingface/hub/models--SWivid--F5-TTS/snapshots/4dcc16f297f2ff98a17b3726b16f5de5a5e45672/F5TTS_Base/model_1200000.safetensors \n",
            "\n",
            "Starting app...\n",
            "Running on local URL:  http://127.0.0.1:7860\n",
            "Running on public URL: https://5081b62d0360c59b92.gradio.live\n",
            "\n",
            "This share link expires in 72 hours. For free permanent hosting and GPU upgrades, run `gradio deploy` from Terminal to deploy to Spaces (https://huggingface.co/spaces)\n",
            "config.json: 100% 1.26k/1.26k [00:00<00:00, 8.62MB/s]\n",
            "model.safetensors: 100% 1.62G/1.62G [00:40<00:00, 39.8MB/s]\n",
            "generation_config.json: 100% 3.77k/3.77k [00:00<00:00, 22.8MB/s]\n",
            "tokenizer_config.json: 100% 283k/283k [00:00<00:00, 54.9MB/s]\n",
            "vocab.json: 100% 1.04M/1.04M [00:00<00:00, 1.65MB/s]\n",
            "tokenizer.json: 100% 2.71M/2.71M [00:00<00:00, 30.4MB/s]\n",
            "merges.txt: 100% 494k/494k [00:00<00:00, 50.7MB/s]\n",
            "normalizer.json: 100% 52.7k/52.7k [00:00<00:00, 152MB/s]\n",
            "added_tokens.json: 100% 34.6k/34.6k [00:00<00:00, 97.5MB/s]\n",
            "special_tokens_map.json: 100% 2.19k/2.19k [00:00<00:00, 14.9MB/s]\n",
            "preprocessor_config.json: 100% 340/340 [00:00<00:00, 2.25MB/s]\n",
            "/usr/local/lib/python3.10/dist-packages/transformers/models/whisper/generation_whisper.py:509: FutureWarning: The input name `inputs` is deprecated. Please make sure to use `input_features` instead.\n",
            "  warnings.warn(\n",
            "You have passed task=transcribe, but also have set `forced_decoder_ids` to [[1, None], [2, 50360]] which creates a conflict. `forced_decoder_ids` will be ignored in favor of task=transcribe.\n",
            "Passing a tuple of `past_key_values` is deprecated and will be removed in Transformers v4.43.0. You should pass an instance of `EncoderDecoderCache` instead, e.g. `past_key_values=EncoderDecoderCache.from_legacy_cache(past_key_values)`.\n",
            "The attention mask is not set and cannot be inferred from input because pad token is same as eos token. As a consequence, you may observe unexpected behavior. Please pass your input's `attention_mask` to obtain reliable results.\n",
            "ref_text   Let me tell you, I am not real but I look like a human. And you are definitely thinking that how to make it. Well, Ali will teach you this. \n",
            "gen_text 0 Visual: Dynamic, futuristic animation of interconnected AR, VR, and AI concepts, with uplifting music fading into the host on camera. Host: “Imagine a world where you can instantly connect with someone across the globe as if they’re standing right next to you,\n",
            "gen_text 1 where augmented reality brings your ideas to life in front of your eyes, and where AI transforms how we live, work, and even dream. These are not just abstract concepts—they’re the future Meta is building toward, led by one of the most influential visionaries of our time:\n",
            "gen_text 2 Mark Zuckerberg. I had the chance to sit down with Mark before the recent Connect event to ask big questions about the future he’s designing for billions of people. In this episode, we’ll unpack Meta’s revolutionary technologies, like their Orion AR glasses,\n",
            "gen_text 3 the evolution of VR with Quest 3S, and how generative AI might redefine social media, creativity, and even how we connect as humans. Welcome to the very first episode of Huge Conversations—a series where we explore the ideas shaping our future, directly with the people building it.\n",
            "gen_text 4 Let’s dive in.”\n",
            "\n",
            "Chapter 1: What is Mark Zuckerberg Trying to Build? (1:30 – 6:00)\n",
            "Visual: Footage of Mark Zuckerberg speaking at Meta Connect, overlaid with clips of futuristic AR and VR demos. Host: “When I asked Mark about his vision for the future, his answer was striking.\n",
            "gen_text 5 Meta isn’t just building gadgets—they’re creating a platform for human connection. Think about AR glasses that let you see holograms of friends in your living room or translation tools straight out of Star Trek.\n",
            "gen_text 6 Mark explained that the heart of Meta’s mission is to ‘build technology that makes us feel more present with each other.’ But how close are we to that reality? Let’s start with one of Meta’s boldest innovations: the Orion prototype AR glasses.”\n",
            "\n",
            "Chapter 2:\n",
            "gen_text 7 Meta's Orion AR Glasses—Revolution or Hype? (6:00 – 15:00)\n",
            "Visual: A detailed breakdown of the Orion glasses prototype with slick animations showing how they work. Host: “Meta’s Orion glasses are an early step toward a world where you don’t need a screen—you just wear one.\n",
            "gen_text 8 These glasses overlay digital objects seamlessly into the real world, creating what Mark calls a ‘mixed reality’ experience. I asked how they work. The secret? A blend of cutting-edge optics, ultra-thin displays,\n",
            "gen_text 9 and advanced AI that anticipates how you move and interact with the world around you. It’s technology inspired by science fiction, but it could be in your hands—or on your face—sooner than you think. Still, Mark admitted that AR comes with challenges,\n",
            "gen_text 10 from battery life to making them comfortable enough for everyday use. So, what’s the endgame? How will AR glasses transform our daily lives?”\n",
            "\n",
            "Chapter 3: The Future of AR, VR, and Human Connection (15:00 – 30:00)\n",
            "Visual: Juxtaposed scenes of people using AR for work,\n",
            "gen_text 11 VR for social events, and AI-driven tools for creativity. Host: “Mark believes that AR and VR will blur the line between physical and digital spaces, creating an entirely new way for people to connect. He talked about how VR can make you feel fully present,\n",
            "gen_text 12 whether you’re in a business meeting or playing games with friends across the world. But here’s the question: In a world full of screens, why aren’t we already feeling more connected? Mark was candid about this. He pointed out that while technology has brought us closer,\n",
            "gen_text 13 it’s also made us feel more isolated. His team is working to change that by building platforms that feel natural—where you don’t just see someone on a screen, you feel like you’re truly there with them.”\n",
            "\n",
            "Chapter 4:\n",
            "gen_text 14 AI’s Role in Social Media and Everyday Life (30:00 – 50:00)\n",
            "Visual: Generative AI tools creating art, writing code, and enabling lifelike avatars. Host: “Another big part of Meta’s vision is generative AI.\n",
            "gen_text 15 Mark shared how AI could revolutionize creativity—letting anyone design games, create art, or even build entire virtual worlds without needing technical skills. But with great power comes great responsibility. I asked him what concerns keep him up at night when it comes to AI. His answer?\n",
            "gen_text 16 Ensuring it’s used ethically and avoiding over-reliance, especially for kids. He’s also grappling with one of the biggest questions facing AI today: Should these tools be open-sourced or kept proprietary? For Meta, the answer lies in collaboration.\n",
            "gen_text 17 By making their AI systems more accessible, Mark hopes to spur innovation while keeping safety in mind. But is open-source AI the key to a better future—or a potential risk?”\n",
            "\n",
            "Chapter 5: The Genuine Questions That Drive Mark Zuckerberg (50:00 – 1:20:00)\n",
            "Visual:\n",
            "gen_text 18 A mix of candid moments from the interview with Mark and aspirational shots of people using Meta's tech. Host: “As we wrapped up our conversation, I asked Mark: What’s the biggest question on your mind right now? He paused, then said:\n",
            "gen_text 19 ‘How do we ensure that the technology we’re building improves people’s lives—not just for the next five years, but for generations?’\n",
            "\n",
            "It’s a question we should all be asking ourselves. Whether it’s AR, VR, or AI, these tools have the power to reshape society.\n",
            "gen_text 20 But it’s up to us to decide how they’re used.”\n",
            "\n",
            "Closing Scene (1:20:00 – 1:30:00)\n",
            "Visual: The host walking through a modern city, surrounded by subtle AR elements as inspirational music plays. Host: “So, what do you think? Is Meta building a better future,\n",
            "gen_text 21 or one we should approach with caution? This conversation is just the beginning. Technology is advancing at a pace faster than ever, and it’s up to all of us to understand it, question it, and shape it. Thank you for joining me for this first episode of Huge Conversations.\n",
            "gen_text 22 Don’t forget to like, subscribe, and let me know in the comments: What kind of future do you want to see? Until next time, stay curious.”\n",
            "Building prefix dict from the default dictionary ...\n",
            "Dumping model to file cache /tmp/jieba.cache\n",
            "Loading model cost 0.738 seconds.\n",
            "Prefix dict has been built successfully.\n",
            "/usr/local/lib/python3.10/dist-packages/gradio/processing_utils.py:574: UserWarning: Trying to convert audio automatically from float64 to 16-bit int format.\n",
            "  warnings.warn(warning.format(data.dtype))\n",
            "ref_text   Let me tell you, I am not real but I look like a human. And you are definitely thinking that how to make it. Well, Ali will teach you this. \n",
            "gen_text 0 “Imagine waking up in a world where the boundaries between the digital and physical have almost entirely disappeared. A world where you can connect with someone on the other side of the planet, and it feels like they’re sitting across the table. Where your imagination becomes reality,\n",
            "gen_text 1 not through a screen but through the air around you. This isn’t a distant dream. It’s the vision Meta is actively building toward, and at the center of this transformation is Mark Zuckerberg.\n",
            "gen_text 2 Mark is one of the few people alive with the ability to shape the future billions of us might live in. I had the opportunity to sit down with him before Meta’s Connect event to ask some of the biggest questions I could think of. What kind of future is Meta building?\n",
            "gen_text 3 What will augmented and virtual reality look like in our daily lives? And how will AI, the driving force behind so much of our innovation today, fit into this vision?\n",
            "gen_text 4 Welcome to Huge Conversations—a series where we explore the most exciting and sometimes unsettling innovations shaping our world, directly with the people building them. In this episode, we’re taking a deep dive into Meta’s revolutionary technologies,\n",
            "gen_text 5 including their new Orion AR glasses, the Quest 3S VR headset, and the role of AI in reshaping how we live, work, and connect. This isn’t just about technology—it’s about people, connection, and how we navigate the complex ethical questions that come with these advancements.\n",
            "gen_text 6 So let’s jump right in. When I first asked Mark what Meta is trying to build, his answer surprised me. He said, ‘At its core, Meta isn’t about devices or software; it’s about building the next platform for human connection.’ Think about that for a second.\n",
            "gen_text 7 This isn’t just about making AR glasses or VR headsets—they’re designing tools to fundamentally change how we interact, communicate, and experience the world around us. One of the most exciting—and maybe daunting—projects is the Orion AR glasses.\n",
            "gen_text 8 Imagine putting on a pair of glasses and seeing holograms of your friends or coworkers right in your living room. No need for a screen or a phone. Instead, these glasses layer digital objects onto the physical world in real-time. It’s what Mark calls a ‘mixed reality’ experience,\n",
            "gen_text 9 where the digital and physical coexist seamlessly. I asked him, How do they work? The technology is mind-blowing. The glasses use ultra-thin displays and advanced optics to project images directly into your eyes. AI then processes how you move and interact,\n",
            "gen_text 10 making these holograms feel real and natural. But here’s the thing—this isn’t easy. Mark admitted that AR has massive challenges. Think battery life, heat dissipation, and making the glasses comfortable enough to wear all day. These might sound like small issues,\n",
            "gen_text 11 but solving them is crucial if AR is going to become a part of our daily lives. Despite these hurdles, Meta is confident that this technology will transform everything from how we collaborate at work to how we stay connected with loved ones. So what about virtual reality?\n",
            "gen_text 12 Mark explained that VR is the other half of the equation. While AR enhances the real world, VR creates entirely new ones. With the Quest 3S, Meta is pushing VR further than ever before. I asked him why VR feels so real, and his answer was fascinating.\n",
            "gen_text 13 VR tricks your brain into believing you’re somewhere else. It’s not just about what you see—it’s how the system mimics the way you hear, move, and even feel. Mark described how they’re working on technologies like haptic feedback,\n",
            "gen_text 14 which could allow you to feel textures or vibrations in a virtual world. Imagine shaking hands with someone in VR and actually feeling their grip. Still, there’s an elephant in the room. Technology like this can bring us closer together,\n",
            "gen_text 15 but why does it so often feel like we’re more disconnected than ever? When I asked Mark about this, he acknowledged that while tech has made communication easier, it hasn’t always made it better. Social media, for example,\n",
            "gen_text 16 connects billions of people but often leaves us feeling isolated. Mark’s goal is to fix this by designing platforms that feel natural and human. He wants Meta’s tools to make us feel like we’re truly present with one another, not just looking at screens.\n",
            "gen_text 17 Whether that’s through a VR hangout or an AR projection of a loved one, the focus is on connection, not distraction. And then there’s AI—the force that’s reshaping almost everything we do. Mark believes generative AI could be one of the most empowering tools we’ve ever created.\n",
            "gen_text 18 It could let anyone, regardless of skill level, design art, build virtual worlds, or even develop new forms of entertainment. I asked him, What are you most excited about with AI? His answer: ‘Creativity.’ For Mark,\n",
            "gen_text 19 AI isn’t just about efficiency or automation—it’s about unlocking human potential. Imagine a world where anyone can bring their ideas to life, no matter how ambitious or complex. But, of course, there are risks. I asked Mark what concerns him most about AI, especially as a father.\n",
            "gen_text 20 He was honest: He doesn’t want his kids—or anyone’s kids—to grow up overly reliant on AI for creativity, connection, or learning. He also brought up the ethical challenges of AI, like bias and misuse, and the responsibility of companies like Meta to address these issues.\n",
            "gen_text 21 One of the biggest debates in AI right now is whether these systems should be open-sourced. Mark sees open-source AI as a double-edged sword. On one hand, it could democratize access to powerful tools, sparking innovation on a global scale. On the other hand,\n",
            "gen_text 22 it could make it easier for bad actors to misuse these technologies. Meta has chosen a middle ground, prioritizing transparency while implementing safeguards. As we neared the end of our conversation, I asked Mark one final question: What’s the biggest question on your mind right now?\n",
            "gen_text 23 He paused, then said, ‘How do we ensure that the technology we’re building improves people’s lives—not just for the next five years, but for generations?’\n",
            "It’s a question that resonated with me. As we stand on the brink of incredible technological breakthroughs,\n",
            "gen_text 24 we also have to ask: What kind of future do we want to create? How do we make sure these tools bring us closer together, rather than pulling us apart? So, what do you think? Is Meta building a better future, or one we should approach with caution? This conversation is just the beginning.\n",
            "gen_text 25 Technology is advancing faster than ever, and it’s up to all of us to understand it, question it, and shape it. Thank you for joining me for this first episode of Huge Conversations. Don’t forget to like, subscribe, and share your thoughts in the comments.\n",
            "gen_text 26 What kind of future do you want to see? Until next time, stay curious.”\n",
            "/usr/local/lib/python3.10/dist-packages/gradio/processing_utils.py:574: UserWarning: Trying to convert audio automatically from float64 to 16-bit int format.\n",
            "  warnings.warn(warning.format(data.dtype))\n",
            "Keyboard interruption in main thread... closing server.\n",
            "\n",
            "Aborted!\n",
            "Killing tunnel 127.0.0.1:7860 <> https://5081b62d0360c59b92.gradio.live\n"
          ]
        }
      ],
      "source": [
        "!f5-tts_infer-gradio --share"
      ]
    }
  ]
}